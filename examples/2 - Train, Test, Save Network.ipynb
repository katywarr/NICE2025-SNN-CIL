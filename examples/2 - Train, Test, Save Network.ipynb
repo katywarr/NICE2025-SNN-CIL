{
 "cells": [
  {
   "cell_type": "markdown",
   "id": "4de7d60e-6025-4f0a-885a-16885d5f7f30",
   "metadata": {},
   "source": [
    "# Train, Test and Save a Network\n",
    "\n",
    "Notebook to generate and test a network based on specified learning parameters. This notebook uses data that was previously saved in `1 - Generate Data.ipynb`."
   ]
  },
  {
   "cell_type": "code",
   "execution_count": 1,
   "id": "7d221dd0-b274-4efd-9828-21b139a57d49",
   "metadata": {},
   "outputs": [],
   "source": [
    "import sys\n",
    "sys.path.append('../src')\n",
    "import os\n",
    "from classifier import Classifier\n",
    "from sklearn.metrics import classification_report, ConfusionMatrixDisplay\n",
    "from utils.mnist_reader import load_train_test_dataset\n",
    "import numpy as np\n",
    "import matplotlib.pyplot as plt\n",
    "import seaborn as sns\n",
    "import pandas as pd"
   ]
  },
  {
   "cell_type": "markdown",
   "id": "9c97a5fb-6841-4652-a72a-61c6764b65f6",
   "metadata": {},
   "source": [
    "## Load the previously generated and saved data\n",
    "\n",
    "If this data does not exist, you need to run `1. Generate Data.ipynb`."
   ]
  },
  {
   "cell_type": "code",
   "execution_count": 2,
   "id": "28e55e06-2519-4624-bd1d-47bce17861cc",
   "metadata": {},
   "outputs": [
    {
     "name": "stdout",
     "output_type": "stream",
     "text": [
      "Loading dataset from directory ../datasets/split_mnist_784_50_12. Current directory is /Users/katy/Code/neurogen_classifier/examples.\n",
      "Test data loaded. Total of 120 test examples.\n"
     ]
    },
    {
     "data": {
      "text/plain": [
       "{'dataset': 'mnist_784',\n",
       " 'trains_per_class': 50,\n",
       " 'tests_per_class': 12,\n",
       " 'trains_in_test_set': False,\n",
       " 'training_labels': None,\n",
       " 'testing_labels': None,\n",
       " 'precision_required': 7,\n",
       " 'shuffle': False,\n",
       " 'use_edge_detection': False}"
      ]
     },
     "execution_count": 2,
     "metadata": {},
     "output_type": "execute_result"
    }
   ],
   "source": [
    "data_saved_dir = '../datasets/old/split_mnist_784_50_12'\n",
    "\n",
    "x_train, y_train, x_test, y_test, data_params = load_train_test_dataset(data_saved_dir)\n",
    "\n",
    "print('Test data loaded. Total of {} test examples.'.format(y_test.shape[0]))\n",
    "data_params"
   ]
  },
  {
   "cell_type": "markdown",
   "id": "37d0ace3-e313-44ed-847d-61cd85fa57d2",
   "metadata": {},
   "source": [
    "## Train and test the network\n",
    "\n",
    "Generate a network and train and test it. \n",
    "There is the option to save the network and the recall results after this step. This will enable plots to be generated using `3 - Plot Saved Network`."
   ]
  },
  {
   "cell_type": "code",
   "execution_count": 3,
   "id": "2dd3fd53-99bc-485a-af5e-f081353a9bbe",
   "metadata": {},
   "outputs": [
    {
     "name": "stdout",
     "output_type": "stream",
     "text": [
      "==============================================================\n",
      "Classifier network defined as follows:\n",
      "\n",
      "Learning params summary: \n",
      "{   'f_h_sparsity': 0.2,\n",
      "    'h_threshold_mean': 24,\n",
      "    'h_threshold_sd': 3.5,\n",
      "    'h_weights_d': 0.4,\n",
      "    'h_weights_init': 1.0,\n",
      "    'h_weights_p': 0.4,\n",
      "    'learning_pool_size': 250,\n",
      "    'noise_tolerance_ratio': 1.3,\n",
      "    'novelty_threshold': 25,\n",
      "    'p_deprecate': 0.02,\n",
      "    'p_init': 0.5,\n",
      "    'p_mature_threshold': 1.0,\n",
      "    'p_potentiate': 0.2}\n",
      "==============================================================\n",
      "Learning:\n",
      "      Length of each signal:      784\n",
      "      Number of training signals: 500\n",
      "\n",
      "\n",
      "Initialised subnetwork classification 0 for learning. Thresholds range from min 14.95075824540548 to maximum 33.414139260271476\n",
      "\n",
      " 1 2 3 4 5 6 7 8 9 10 11 12 13 14 15 16 17 18 19 20 21 22 23 24 25 26 27 28 29 30 31 32 33 34 35 36 37 38 39 40 41 42 43 44 45 46 47 48 49\n",
      "\n",
      "Initialised subnetwork classification 1 for learning. Thresholds range from min 14.056142378628829 to maximum 32.8554531778335\n",
      "\n",
      " 51 52 53 54 55 56 57 58 59 60 61 62 63 64 65 66 67 68 69 70 71 72 73 74 75 76 77 78 79 80 81 82 83 84 85 86 87 88 89 90 91 92 93 94 95 96 97 98 99\n",
      "\n",
      "Initialised subnetwork classification 2 for learning. Thresholds range from min 14.408898935532623 to maximum 33.358695737828896\n",
      "\n",
      " 101 102 103 104 105 106 107 108 109 110 111 112 113 114 115 116 117 118 119 120 121 122 123 124 125 126 127 128 129 130 131 132 133 134 135 136 137 138 139 140 141 142 143 144 145 146 147 148 149\n",
      "\n",
      "Initialised subnetwork classification 3 for learning. Thresholds range from min 15.268009775449086 to maximum 35.314630950745645\n",
      "\n",
      " 151 152 153 154 155 156 157 158 159 160 161 162 163 164 165 166 167 168 169 170 171 172 173 174 175 176 177 178 179 180 181 182 183 184 185 186 187 188 189 190 191 192 193 194 195 196 197 198 199\n",
      "\n",
      "Initialised subnetwork classification 4 for learning. Thresholds range from min 15.030044953929078 to maximum 32.080757156098706\n",
      "\n",
      " 201 202 203 204 205 206 207 208 209 210 211 212 213 214 215 216 217 218 219 220 221 222 223 224 225 226 227 228 229 230 231 232 233 234 235 236 237 238 239 240 241 242 243 244 245 246 247 248 249\n",
      "\n",
      "Initialised subnetwork classification 5 for learning. Thresholds range from min 11.51856320564815 to maximum 35.01134287728171\n",
      "\n",
      " 251 252 253 254 255 256 257 258 259 260 261 262 263 264 265 266 267 268 269 270 271 272 273 274 275 276 277 278 279 280 281 282 283 284 285 286 287 288 289 290 291 292 293 294 295 296 297 298 299\n",
      "\n",
      "Initialised subnetwork classification 6 for learning. Thresholds range from min 16.279992885021084 to maximum 33.243576551169205\n",
      "\n",
      " 301 302 303 304 305 306 307 308 309 310 311 312 313 314 315 316 317 318 319 320 321 322 323 324 325 326 327 328 329 330 331 332 333 334 335 336 337 338 339 340 341 342 343 344 345 346 347 348 349\n",
      "\n",
      "Initialised subnetwork classification 7 for learning. Thresholds range from min 14.824156022321215 to maximum 33.45670887388332\n",
      "\n",
      " 351 352 353 354 355 356 357 358 359 360 361 362 363 364 365 366 367 368 369 370 371 372 373 374 375 376 377 378 379 380 381 382 383 384 385 386 387 388 389 390 391 392 393 394 395 396 397 398 399\n",
      "\n",
      "Initialised subnetwork classification 8 for learning. Thresholds range from min 14.93224800735544 to maximum 32.87528741175447\n",
      "\n",
      " 401 402 403 404 405 406 407 408 409 410 411 412 413 414 415 416 417 418 419 420 421 422 423 424 425 426 427 428 429 430 431 432 433 434 435 436 437 438 439 440 441 442 443 444 445 446 447 448 449\n",
      "\n",
      "Initialised subnetwork classification 9 for learning. Thresholds range from min 12.474423785597383 to maximum 34.08990864535293\n",
      "\n",
      " 451 452 453 454 455 456 457 458 459 460 461 462 463 464 465 466 467 468 469 470 471 472 473 474 475 476 477 478 479 480 481 482 483 484 485 486 487 488 489 490 491 492 493 494 495 496 497 498 499\n",
      "Learning complete.\n",
      "\n",
      "Simulation results: + = correct / - = incorrect / x = no result / * = subnetwork draw\n",
      " 0+ 1+ 2+ 3+ 4+ 5+ 6-x 7- 8+ 9+ 10+ 11- 12-x 13+ 14- 15+ 16- 17- 18+ 19-x 20+ 21+ 22-x 23+ 24+ 25+ 26- 27+ 28- 29- 30- 31+ 32+ 33- 34+ 35- 36+ 37-x 38+ 39+ 40- 41- 42+ 43+ 44- 45+ 46+ 47-x 48+ 49- 50-x 51- 52+ 53- 54-x 55+ 56-x 57- 58+ 59+ 60+ 61- 62- 63- 64-x 65+ 66+ 67- 68-x 69+ 70+ 71-x 72+ 73+ 74+ 75+ 76- 77+ 78+ 79-x 80+ 81- 82+ 83+ 84+ 85- 86+ 87-x 88- 89- 90+ 91- 92-x 93- 94- 95+ 96+ 97- 98- 99- 100+ 101+ 102+ 103- 104-x 105+ 106+ 107- 108+ 109+ 110+ 111+ 112+ 113+ 114- 115- 116- 117- 118+ 119+===>all results\n",
      "             0         1         2          3          4          5  \\\n",
      "0    51.639329  1.291045  9.740414  10.510132  22.611866  32.130412   \n",
      "1    74.293909  0.000000  5.968459  12.019850  16.935333  18.469523   \n",
      "2     0.769566  0.000000  0.000000   0.000000   0.000000   0.000000   \n",
      "3    58.624611  0.585673  1.619225   5.282541   0.000000   5.048329   \n",
      "4    28.064886  1.336413  0.796424   2.019662   2.839031   9.934080   \n",
      "..         ...       ...       ...        ...        ...        ...   \n",
      "115   3.652782  0.705372  1.151393   2.046364  32.798262   8.252919   \n",
      "116   0.754102  1.922086  0.000000   0.636167   3.792281   1.896754   \n",
      "117   0.689797  0.000000  0.000000   0.000000   6.159221   0.533898   \n",
      "118   0.000000  0.000000  0.000000   0.000000   0.776366   0.000000   \n",
      "119   0.000000  0.000000  0.000000   0.000000   1.717906   1.316195   \n",
      "\n",
      "             6          7          8          9 actual predictions  \\\n",
      "0    43.618978  19.411188  20.431541  39.912707      0           0   \n",
      "1    13.014126  11.045773  11.936802  24.761080      0           0   \n",
      "2     0.000000   0.000000   0.000000   0.000000      0           0   \n",
      "3     4.636690   0.763869   2.186309   1.294720      0           0   \n",
      "4     9.580519   0.763869   4.985276   1.279190      0           0   \n",
      "..         ...        ...        ...        ...    ...         ...   \n",
      "115   0.712175  17.660359   3.110517  31.053652      9           4   \n",
      "116   0.000000  11.305575   2.744262   9.897806      9           7   \n",
      "117   0.000000   3.524028   0.000000   5.634131      9           4   \n",
      "118   0.000000   0.637591   0.000000   4.334097      9           9   \n",
      "119   0.712175   2.278411   1.391597   9.473766      9           9   \n",
      "\n",
      "     spiking_correct_per_test  spiking_incorrect_per_test  spiking_per_test  \n",
      "0                          62                         248               310  \n",
      "1                          86                         147               233  \n",
      "2                           1                           0                 1  \n",
      "3                          70                          29                99  \n",
      "4                          34                          45                79  \n",
      "..                        ...                         ...               ...  \n",
      "115                         5                         122               127  \n",
      "116                         1                          43                44  \n",
      "117                         1                          22                23  \n",
      "118                         0                           8                 8  \n",
      "119                         0                          23                23  \n",
      "\n",
      "[120 rows x 15 columns]\n"
     ]
    }
   ],
   "source": [
    "learning_params = {'learning_pool_size': 250,\n",
    "                   'f_h_sparsity': 0.2,\n",
    "                   'h_threshold_mean': 24,\n",
    "                   'h_threshold_sd': 3.5,\n",
    "                   'h_weights_init': 1.0,\n",
    "                   'h_weights_p': 0.4,\n",
    "                   'h_weights_d': 0.4,\n",
    "                   'novelty_threshold': 25,\n",
    "                   # This will be mult by the threshold to get the pre_synaptic weight total.\n",
    "                   # ratio * threshold indicates the maximum voltage of a hidden neuron.\n",
    "                   'noise_tolerance_ratio': 1.3,\n",
    "                   'p_init': 0.5,\n",
    "                   'p_potentiate': 0.2,\n",
    "                   'p_deprecate': 0.02,\n",
    "                   'p_mature_threshold': 1.0,\n",
    "                   }\n",
    "classifier = Classifier(learning_params, verbose=False)\n",
    "labels_learnt = classifier.learn(x_train, y_train)\n",
    "all_results = classifier.predict(x_test, y_test)"
   ]
  },
  {
   "cell_type": "markdown",
   "id": "d96e6682-2201-490d-8d5e-3138367c97f6",
   "metadata": {},
   "source": [
    "## Print the core results with a confusion matrix"
   ]
  },
  {
   "cell_type": "code",
   "execution_count": 4,
   "id": "d7ca3235-abbf-443f-a194-34b4e22a54eb",
   "metadata": {},
   "outputs": [],
   "source": [
    "predictions = all_results['predictions']\n",
    "results = classification_report(y_true=y_test, y_pred=predictions, zero_division=0, output_dict=True)\n",
    "results_dict = {'accuracy': results['accuracy'],\n",
    "                'f1_score_macro': results['macro avg']['f1-score'],\n",
    "                'f1_score_weighted': results['weighted avg']['f1-score'],\n",
    "                'precision_weighted': results['weighted avg']['precision'],\n",
    "                'recall_weighted': results['weighted avg']['recall'],\n",
    "                }"
   ]
  },
  {
   "cell_type": "code",
   "execution_count": 5,
   "id": "33333d8c-a918-4052-9325-cd014841ea75",
   "metadata": {},
   "outputs": [
    {
     "name": "stdout",
     "output_type": "stream",
     "text": [
      "Learning step data\n",
      "labels learnt: ['0' '1' '2' '3' '4' '5' '6' '7' '8' '9']\n",
      "  classification  h_permanent  h_refreshed  h_insufficient_conns  \\\n",
      "0              0          164          235                   310   \n",
      "1              1            3          250                   233   \n",
      "2              2          184          244                     1   \n",
      "3              3           97          218                    99   \n",
      "4              4          181          194                    79   \n",
      "5              5          146          202                   127   \n",
      "6              6          230          249                    44   \n",
      "7              7           48          224                    23   \n",
      "8              8          309          309                     8   \n",
      "9              9          143          288                    23   \n",
      "\n",
      "   training samples  training samples contrib  training samples not novel  \\\n",
      "0                50                        46                           4   \n",
      "1                50                        50                           0   \n",
      "2                50                        46                           4   \n",
      "3                50                        43                           7   \n",
      "4                50                        47                           3   \n",
      "5                50                        48                           2   \n",
      "6                50                        36                          14   \n",
      "7                50                        50                           0   \n",
      "8                50                        42                           8   \n",
      "9                50                        50                           0   \n",
      "\n",
      "   training samples contrib prob  training sparsity  f_h_weight_average  \\\n",
      "0                           0.92              75.34            1.438920   \n",
      "1                           1.00              41.24            1.991489   \n",
      "2                           0.92              73.88            1.378674   \n",
      "3                           0.86              59.64            1.488637   \n",
      "4                           0.94              64.12            1.360443   \n",
      "5                           0.96              65.48            1.501384   \n",
      "6                           0.72              55.02            1.397196   \n",
      "7                           1.00              63.68            1.652980   \n",
      "8                           0.84              69.46            1.129958   \n",
      "9                           1.00              70.64            1.515489   \n",
      "\n",
      "   f_h_weight_std  f_h_weight_max  f_h_weight_min  h_out_weight_average  \\\n",
      "0        0.442738        2.949378        0.475857              0.911691   \n",
      "1        0.606007        2.981316        1.038667              0.640695   \n",
      "2        0.402588        3.040327        0.585863              0.921443   \n",
      "3        0.458115        3.399977        0.496169              0.869652   \n",
      "4        0.446988        2.677897        0.580721              0.926036   \n",
      "5        0.477107        3.190822        0.603299              0.919701   \n",
      "6        0.422521        2.648164        0.546557              0.940644   \n",
      "7        0.570878        3.695849        0.537182              0.861950   \n",
      "8        0.372577        2.948200        0.599510              0.945357   \n",
      "9        0.502042        4.180193        0.507840              0.878509   \n",
      "\n",
      "   h_out_weight_max  h_out_weight_min  \n",
      "0          1.363954          0.622948  \n",
      "1          0.705372          0.585673  \n",
      "2          1.194576          0.539796  \n",
      "3          1.290832          0.539929  \n",
      "4          1.194991          0.607375  \n",
      "5          1.214386          0.479940  \n",
      "6          1.385149          0.678333  \n",
      "7          1.134481          0.637591  \n",
      "8          1.280880          0.610221  \n",
      "9          1.183520          0.519768  \n",
      "{'0': {'precision': 1.0, 'recall': 0.75, 'f1-score': 0.8571428571428571, 'support': 12.0}, '1': {'precision': 0.8571428571428571, 'recall': 0.5, 'f1-score': 0.631578947368421, 'support': 12.0}, '2': {'precision': 0.8571428571428571, 'recall': 0.5, 'f1-score': 0.631578947368421, 'support': 12.0}, '3': {'precision': 0.875, 'recall': 0.5833333333333334, 'f1-score': 0.7, 'support': 12.0}, '4': {'precision': 0.5555555555555556, 'recall': 0.4166666666666667, 'f1-score': 0.47619047619047616, 'support': 12.0}, '5': {'precision': 0.5555555555555556, 'recall': 0.4166666666666667, 'f1-score': 0.47619047619047616, 'support': 12.0}, '6': {'precision': 0.9, 'recall': 0.75, 'f1-score': 0.8181818181818182, 'support': 12.0}, '7': {'precision': 0.6666666666666666, 'recall': 0.3333333333333333, 'f1-score': 0.4444444444444444, 'support': 12.0}, '8': {'precision': 0.42857142857142855, 'recall': 0.5, 'f1-score': 0.46153846153846156, 'support': 12.0}, '9': {'precision': 0.32, 'recall': 0.6666666666666666, 'f1-score': 0.43243243243243246, 'support': 12.0}, 'x': {'precision': 0.0, 'recall': 0.0, 'f1-score': 0.0, 'support': 0.0}, 'accuracy': 0.5416666666666666, 'macro avg': {'precision': 0.6377849927849929, 'recall': 0.49242424242424243, 'f1-score': 0.5390253509870734, 'support': 120.0}, 'weighted avg': {'precision': 0.7015634920634921, 'recall': 0.5416666666666666, 'f1-score': 0.5929278860857807, 'support': 120.0}}\n",
      "\n",
      "Recall for simulation: Overall accuracy: 0.5416666666666666 Precision: 0.7015634920634921,  Recall: 0.5416666666666666\n"
     ]
    }
   ],
   "source": [
    "print('Learning step data')\n",
    "print('labels learnt: {}'.format(labels_learnt))\n",
    "print(classifier.subnet_data())\n",
    "print(classification_report(y_true=y_test, y_pred=predictions, zero_division=0, output_dict=True))\n",
    "print('\\nRecall for simulation: Overall accuracy: {} Precision: {},  Recall: {}'\n",
    "      .format(results_dict['accuracy'],\n",
    "              results_dict['precision_weighted'],\n",
    "              results_dict['recall_weighted']))"
   ]
  },
  {
   "cell_type": "code",
   "execution_count": 6,
   "id": "c5fdecb4-f3a8-4def-aeaf-a5f5d176ffed",
   "metadata": {},
   "outputs": [
    {
     "name": "stdout",
     "output_type": "stream",
     "text": [
      "\n",
      "Establishing averages\n",
      "... done establishing averages\n"
     ]
    }
   ],
   "source": [
    "average_scores, average_spikes = classifier.get_predict_diagnostics(all_results)"
   ]
  },
  {
   "cell_type": "code",
   "execution_count": 7,
   "id": "28c63473-8f02-430f-9732-db6b41fdf188",
   "metadata": {},
   "outputs": [
    {
     "data": {
      "text/html": [
       "<div>\n",
       "<style scoped>\n",
       "    .dataframe tbody tr th:only-of-type {\n",
       "        vertical-align: middle;\n",
       "    }\n",
       "\n",
       "    .dataframe tbody tr th {\n",
       "        vertical-align: top;\n",
       "    }\n",
       "\n",
       "    .dataframe thead th {\n",
       "        text-align: right;\n",
       "    }\n",
       "</style>\n",
       "<table border=\"1\" class=\"dataframe\">\n",
       "  <thead>\n",
       "    <tr style=\"text-align: right;\">\n",
       "      <th></th>\n",
       "      <th>0</th>\n",
       "      <th>1</th>\n",
       "      <th>2</th>\n",
       "      <th>3</th>\n",
       "      <th>4</th>\n",
       "      <th>5</th>\n",
       "      <th>6</th>\n",
       "      <th>7</th>\n",
       "      <th>8</th>\n",
       "      <th>9</th>\n",
       "      <th>actual</th>\n",
       "    </tr>\n",
       "  </thead>\n",
       "  <tbody>\n",
       "    <tr>\n",
       "      <th>0</th>\n",
       "      <td>26.65</td>\n",
       "      <td>0.48</td>\n",
       "      <td>2.07</td>\n",
       "      <td>3.55</td>\n",
       "      <td>3.95</td>\n",
       "      <td>8.88</td>\n",
       "      <td>6.44</td>\n",
       "      <td>2.91</td>\n",
       "      <td>4.45</td>\n",
       "      <td>6.58</td>\n",
       "      <td>0</td>\n",
       "    </tr>\n",
       "    <tr>\n",
       "      <th>1</th>\n",
       "      <td>0.00</td>\n",
       "      <td>0.86</td>\n",
       "      <td>0.18</td>\n",
       "      <td>0.04</td>\n",
       "      <td>0.00</td>\n",
       "      <td>0.24</td>\n",
       "      <td>0.06</td>\n",
       "      <td>0.00</td>\n",
       "      <td>0.28</td>\n",
       "      <td>0.00</td>\n",
       "      <td>1</td>\n",
       "    </tr>\n",
       "    <tr>\n",
       "      <th>2</th>\n",
       "      <td>1.60</td>\n",
       "      <td>0.21</td>\n",
       "      <td>11.89</td>\n",
       "      <td>0.47</td>\n",
       "      <td>1.75</td>\n",
       "      <td>0.38</td>\n",
       "      <td>1.91</td>\n",
       "      <td>1.15</td>\n",
       "      <td>3.81</td>\n",
       "      <td>2.57</td>\n",
       "      <td>2</td>\n",
       "    </tr>\n",
       "    <tr>\n",
       "      <th>3</th>\n",
       "      <td>3.94</td>\n",
       "      <td>0.86</td>\n",
       "      <td>0.43</td>\n",
       "      <td>11.66</td>\n",
       "      <td>0.16</td>\n",
       "      <td>4.30</td>\n",
       "      <td>0.32</td>\n",
       "      <td>0.17</td>\n",
       "      <td>4.89</td>\n",
       "      <td>1.07</td>\n",
       "      <td>3</td>\n",
       "    </tr>\n",
       "    <tr>\n",
       "      <th>4</th>\n",
       "      <td>0.12</td>\n",
       "      <td>0.11</td>\n",
       "      <td>0.39</td>\n",
       "      <td>0.31</td>\n",
       "      <td>6.46</td>\n",
       "      <td>0.42</td>\n",
       "      <td>0.46</td>\n",
       "      <td>1.08</td>\n",
       "      <td>0.37</td>\n",
       "      <td>2.88</td>\n",
       "      <td>4</td>\n",
       "    </tr>\n",
       "    <tr>\n",
       "      <th>5</th>\n",
       "      <td>3.76</td>\n",
       "      <td>0.37</td>\n",
       "      <td>0.43</td>\n",
       "      <td>4.88</td>\n",
       "      <td>0.70</td>\n",
       "      <td>14.41</td>\n",
       "      <td>0.44</td>\n",
       "      <td>0.69</td>\n",
       "      <td>8.18</td>\n",
       "      <td>3.87</td>\n",
       "      <td>5</td>\n",
       "    </tr>\n",
       "    <tr>\n",
       "      <th>6</th>\n",
       "      <td>1.17</td>\n",
       "      <td>0.00</td>\n",
       "      <td>1.05</td>\n",
       "      <td>0.20</td>\n",
       "      <td>1.03</td>\n",
       "      <td>0.57</td>\n",
       "      <td>10.28</td>\n",
       "      <td>0.36</td>\n",
       "      <td>1.21</td>\n",
       "      <td>0.80</td>\n",
       "      <td>6</td>\n",
       "    </tr>\n",
       "    <tr>\n",
       "      <th>7</th>\n",
       "      <td>0.52</td>\n",
       "      <td>0.31</td>\n",
       "      <td>0.28</td>\n",
       "      <td>0.47</td>\n",
       "      <td>2.24</td>\n",
       "      <td>0.93</td>\n",
       "      <td>0.33</td>\n",
       "      <td>3.76</td>\n",
       "      <td>0.59</td>\n",
       "      <td>4.92</td>\n",
       "      <td>7</td>\n",
       "    </tr>\n",
       "    <tr>\n",
       "      <th>8</th>\n",
       "      <td>0.60</td>\n",
       "      <td>0.20</td>\n",
       "      <td>1.43</td>\n",
       "      <td>4.46</td>\n",
       "      <td>0.67</td>\n",
       "      <td>3.51</td>\n",
       "      <td>1.70</td>\n",
       "      <td>0.73</td>\n",
       "      <td>8.24</td>\n",
       "      <td>2.44</td>\n",
       "      <td>8</td>\n",
       "    </tr>\n",
       "    <tr>\n",
       "      <th>9</th>\n",
       "      <td>0.48</td>\n",
       "      <td>0.22</td>\n",
       "      <td>0.10</td>\n",
       "      <td>0.57</td>\n",
       "      <td>4.67</td>\n",
       "      <td>1.29</td>\n",
       "      <td>0.12</td>\n",
       "      <td>4.17</td>\n",
       "      <td>0.78</td>\n",
       "      <td>8.34</td>\n",
       "      <td>9</td>\n",
       "    </tr>\n",
       "  </tbody>\n",
       "</table>\n",
       "</div>"
      ],
      "text/plain": [
       "       0     1      2      3     4      5      6     7     8     9 actual\n",
       "0  26.65  0.48   2.07   3.55  3.95   8.88   6.44  2.91  4.45  6.58      0\n",
       "1   0.00  0.86   0.18   0.04  0.00   0.24   0.06  0.00  0.28  0.00      1\n",
       "2   1.60  0.21  11.89   0.47  1.75   0.38   1.91  1.15  3.81  2.57      2\n",
       "3   3.94  0.86   0.43  11.66  0.16   4.30   0.32  0.17  4.89  1.07      3\n",
       "4   0.12  0.11   0.39   0.31  6.46   0.42   0.46  1.08  0.37  2.88      4\n",
       "5   3.76  0.37   0.43   4.88  0.70  14.41   0.44  0.69  8.18  3.87      5\n",
       "6   1.17  0.00   1.05   0.20  1.03   0.57  10.28  0.36  1.21  0.80      6\n",
       "7   0.52  0.31   0.28   0.47  2.24   0.93   0.33  3.76  0.59  4.92      7\n",
       "8   0.60  0.20   1.43   4.46  0.67   3.51   1.70  0.73  8.24  2.44      8\n",
       "9   0.48  0.22   0.10   0.57  4.67   1.29   0.12  4.17  0.78  8.34      9"
      ]
     },
     "execution_count": 7,
     "metadata": {},
     "output_type": "execute_result"
    }
   ],
   "source": [
    "average_scores"
   ]
  },
  {
   "cell_type": "code",
   "execution_count": 8,
   "id": "3765da81-7044-465b-9a12-002fe65c4ea3",
   "metadata": {},
   "outputs": [
    {
     "data": {
      "text/plain": [
       "31"
      ]
     },
     "execution_count": 8,
     "metadata": {},
     "output_type": "execute_result"
    }
   ],
   "source": [
    "average_spikes"
   ]
  },
  {
   "cell_type": "code",
   "execution_count": 9,
   "id": "4e2807d0-e4e7-4c73-a0ba-6297f5e3fd72",
   "metadata": {},
   "outputs": [
    {
     "data": {
      "image/png": "[encoded data removed]",
      "text/plain": [
       "<Figure size 640x480 with 1 Axes>"
      ]
     },
     "metadata": {},
     "output_type": "display_data"
    }
   ],
   "source": [
    "\n",
    "sns.set(font_scale = 1)\n",
    "with sns.axes_style('white'):\n",
    "    ConfusionMatrixDisplay.from_predictions(y_true=y_test, y_pred=predictions,\n",
    "                                        labels=np.append(np.sort(labels_learnt), 'x'),\n",
    "                                        normalize='true', values_format = '.2f', colorbar=False,\n",
    "                                        cmap=plt.cm.Blues)\n",
    "    \n",
    "plt.show()\n",
    "plt.close()"
   ]
  },
  {
   "cell_type": "markdown",
   "id": "c330338f-14f7-42fd-9e5e-ea919513b252",
   "metadata": {},
   "source": [
    "## Optional: Save the network\n",
    "\n",
    "If you would like to plot the results or perform a new recall, save this network.\n",
    "\n",
    "The network (with its saved recall results) can be re-established with the following code.\n",
    "\n",
    "```\n",
    "from classifier import Classifier\n",
    "\n",
    "classifier, labels_learnt = Classifier.from_saved(networks_dir+os.sep+network_name, verbose=False)\n",
    "all_results = classifier.get_last_predict_results()\n",
    "```"
   ]
  },
  {
   "cell_type": "code",
   "execution_count": 13,
   "id": "bdf3dc52-35b2-418d-bf6f-06c34d28e12a",
   "metadata": {},
   "outputs": [
    {
     "name": "stdout",
     "output_type": "stream",
     "text": [
      "****** FUll file path for excel  ../simulation_results/paper_results/pre_trained_network_examples/my_saved_network_2025-02-12-13-40/network_description.xlsx\n",
      "Network description saved to directory ../simulation_results/paper_results/pre_trained_network_examples/my_saved_network_2025-02-12-13-40\n"
     ]
    },
    {
     "data": {
      "text/plain": [
       "'../simulation_results/paper_results/pre_trained_network_examples/my_saved_network_2025-02-12-13-40'"
      ]
     },
     "execution_count": 13,
     "metadata": {},
     "output_type": "execute_result"
    }
   ],
   "source": [
    "from utils.excel_handler import get_timestamp_str \n",
    "# Directory for loading and/or saving the network\n",
    "networks_dir = '../simulation_results/paper_results/pre_trained_network_examples'\n",
    "network_name = 'my_saved_network_'+get_timestamp_str()\n",
    "classifier.save_network(networks_dir, network_name)"
   ]
  },
  {
   "cell_type": "markdown",
   "id": "3f5ef1f4-3e67-4c9f-a2e7-a313d5c26c8e",
   "metadata": {},
   "source": [
    "## Plot details of the network\n",
    "\n",
    "The notebook `3 - Plot Saved Network.ipynb` can be used to plot the network that you have just saved."
   ]
  }
 ],
 "metadata": {
  "kernelspec": {
   "display_name": "Python 3 (ipykernel)",
   "language": "python",
   "name": "python3"
  },
  "language_info": {
   "codemirror_mode": {
    "name": "ipython",
    "version": 3
   },
   "file_extension": ".py",
   "mimetype": "text/x-python",
   "name": "python",
   "nbconvert_exporter": "python",
   "pygments_lexer": "ipython3",
   "version": "3.12.7"
  }
 },
 "nbformat": 4,
 "nbformat_minor": 5
}
